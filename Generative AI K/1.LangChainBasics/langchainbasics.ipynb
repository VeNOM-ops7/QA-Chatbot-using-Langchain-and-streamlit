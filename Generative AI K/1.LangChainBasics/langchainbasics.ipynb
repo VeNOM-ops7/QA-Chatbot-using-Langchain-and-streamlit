{
 "cells": [
  {
   "cell_type": "markdown",
   "id": "6d90a189",
   "metadata": {},
   "source": [
    "###\n",
    "GETTING STARTED WITH LANGCHAIN\n",
    "\n",
    "    > Simple LLM calls with streaming\n",
    "    > Dynamic Prompt Templates (Translation app)\n",
    "    > Building Chains (Story generator with analysis)\n",
    "    > Conversational QA assistant with memory\n",
    "    > Tool integration (calculator & weather)\n",
    "\n"
   ]
  },
  {
   "cell_type": "code",
   "execution_count": 1,
   "id": "e581be5e",
   "metadata": {},
   "outputs": [],
   "source": [
    "import langchain"
   ]
  },
  {
   "cell_type": "code",
   "execution_count": 2,
   "id": "ded387d7",
   "metadata": {},
   "outputs": [
    {
     "data": {
      "text/plain": [
       "True"
      ]
     },
     "execution_count": 2,
     "metadata": {},
     "output_type": "execute_result"
    }
   ],
   "source": [
    "import os\n",
    "from dotenv import load_dotenv\n",
    "load_dotenv()"
   ]
  },
  {
   "cell_type": "code",
   "execution_count": 3,
   "id": "038fdcd1",
   "metadata": {},
   "outputs": [],
   "source": [
    "os.environ[\"COHERE_API_KEY\"]=os.getenv(\"COHERE_API_KEY\")"
   ]
  },
  {
   "cell_type": "markdown",
   "id": "6834dce7",
   "metadata": {},
   "source": [
    "### Simple LLM calls with streaming"
   ]
  },
  {
   "cell_type": "code",
   "execution_count": 4,
   "id": "5c8473c6",
   "metadata": {},
   "outputs": [],
   "source": [
    "from langchain.chat_models import init_chat_model\n",
    "from langchain_core.messages import HumanMessage,SystemMessage"
   ]
  },
  {
   "cell_type": "code",
   "execution_count": 5,
   "id": "dc3c56cf",
   "metadata": {},
   "outputs": [
    {
     "data": {
      "text/plain": [
       "ChatCohere(client=<cohere.client.Client object at 0x0000015C6AEA0980>, async_client=<cohere.client.AsyncClient object at 0x0000015C6C7C2D20>, model='c4ai-aya-vision-8b', cohere_api_key=SecretStr('**********'))"
      ]
     },
     "execution_count": 5,
     "metadata": {},
     "output_type": "execute_result"
    }
   ],
   "source": [
    "model=init_chat_model(\"cohere:c4ai-aya-vision-8b\")\n",
    "model"
   ]
  },
  {
   "cell_type": "code",
   "execution_count": 6,
   "id": "41796b3e",
   "metadata": {},
   "outputs": [],
   "source": [
    "## create messages\n",
    "messages=[\n",
    "    SystemMessage(\"You are a helpful AI assistant\"),\n",
    "    HumanMessage(\"what are the benefits of creatine?\")\n",
    "]"
   ]
  },
  {
   "cell_type": "code",
   "execution_count": 7,
   "id": "85a1fb7f",
   "metadata": {},
   "outputs": [
    {
     "data": {
      "text/plain": [
       "AIMessage(content=\"Creatine is a popular dietary supplement that offers several potential benefits, especially for athletes and fitness enthusiasts. Here are some of its key advantages:\\n\\n1. **Increased Muscle Strength and Power**: Creatine enhances the production of adenosine triphosphate (ATP), which is the primary source of energy for muscle contraction. This leads to improved muscle strength and power, allowing individuals to perform more intense workouts and potentially increase muscle mass over time.\\n\\n2. **Enhanced Recovery**: By helping to replenish glycogen stores in muscles, creatine can reduce recovery time between intense exercise sessions. This is particularly beneficial for athletes who engage in regular high-intensity training.\\n\\n3. **Improved Brain Function**: Creatine is not only beneficial for muscles but also for the brain. It can improve cognitive performance, including memory and mental energy, possibly due to its role in ATP production.\\n\\n4. **Weight Management**: Some studies suggest that creatine supplementation may help reduce body fat and increase lean muscle mass, which can contribute to a more toned appearance and improved metabolic rate.\\n\\n5. **Potential Anti-Aging Benefits**: Creatine supplementation has been linked to improvements in age-related cognitive function and muscle health, possibly due to its antioxidant properties and ability to support cellular health.\\n\\nIt's important to note that while creatine is generally considered safe for most people, it is always advisable to consult with a healthcare professional before starting any new supplement regimen, especially if you have underlying health conditions or are taking medications. Additionally, proper hydration is crucial when supplementing with creatine to support its effective use and minimize potential side effects.\", additional_kwargs={'id': '23bc6aec-5b5a-409d-933d-5691c285cd44', 'finish_reason': 'COMPLETE', 'content': \"Creatine is a popular dietary supplement that offers several potential benefits, especially for athletes and fitness enthusiasts. Here are some of its key advantages:\\n\\n1. **Increased Muscle Strength and Power**: Creatine enhances the production of adenosine triphosphate (ATP), which is the primary source of energy for muscle contraction. This leads to improved muscle strength and power, allowing individuals to perform more intense workouts and potentially increase muscle mass over time.\\n\\n2. **Enhanced Recovery**: By helping to replenish glycogen stores in muscles, creatine can reduce recovery time between intense exercise sessions. This is particularly beneficial for athletes who engage in regular high-intensity training.\\n\\n3. **Improved Brain Function**: Creatine is not only beneficial for muscles but also for the brain. It can improve cognitive performance, including memory and mental energy, possibly due to its role in ATP production.\\n\\n4. **Weight Management**: Some studies suggest that creatine supplementation may help reduce body fat and increase lean muscle mass, which can contribute to a more toned appearance and improved metabolic rate.\\n\\n5. **Potential Anti-Aging Benefits**: Creatine supplementation has been linked to improvements in age-related cognitive function and muscle health, possibly due to its antioxidant properties and ability to support cellular health.\\n\\nIt's important to note that while creatine is generally considered safe for most people, it is always advisable to consult with a healthcare professional before starting any new supplement regimen, especially if you have underlying health conditions or are taking medications. Additionally, proper hydration is crucial when supplementing with creatine to support its effective use and minimize potential side effects.\", 'token_count': {'input_tokens': 617.0, 'output_tokens': 326.0}}, response_metadata={'id': '23bc6aec-5b5a-409d-933d-5691c285cd44', 'finish_reason': 'COMPLETE', 'content': \"Creatine is a popular dietary supplement that offers several potential benefits, especially for athletes and fitness enthusiasts. Here are some of its key advantages:\\n\\n1. **Increased Muscle Strength and Power**: Creatine enhances the production of adenosine triphosphate (ATP), which is the primary source of energy for muscle contraction. This leads to improved muscle strength and power, allowing individuals to perform more intense workouts and potentially increase muscle mass over time.\\n\\n2. **Enhanced Recovery**: By helping to replenish glycogen stores in muscles, creatine can reduce recovery time between intense exercise sessions. This is particularly beneficial for athletes who engage in regular high-intensity training.\\n\\n3. **Improved Brain Function**: Creatine is not only beneficial for muscles but also for the brain. It can improve cognitive performance, including memory and mental energy, possibly due to its role in ATP production.\\n\\n4. **Weight Management**: Some studies suggest that creatine supplementation may help reduce body fat and increase lean muscle mass, which can contribute to a more toned appearance and improved metabolic rate.\\n\\n5. **Potential Anti-Aging Benefits**: Creatine supplementation has been linked to improvements in age-related cognitive function and muscle health, possibly due to its antioxidant properties and ability to support cellular health.\\n\\nIt's important to note that while creatine is generally considered safe for most people, it is always advisable to consult with a healthcare professional before starting any new supplement regimen, especially if you have underlying health conditions or are taking medications. Additionally, proper hydration is crucial when supplementing with creatine to support its effective use and minimize potential side effects.\", 'token_count': {'input_tokens': 617.0, 'output_tokens': 326.0}}, id='run--b39968c9-ec55-44fa-b2a9-c2ac9e4a9ccf-0', usage_metadata={'input_tokens': 617, 'output_tokens': 326, 'total_tokens': 943})"
      ]
     },
     "execution_count": 7,
     "metadata": {},
     "output_type": "execute_result"
    }
   ],
   "source": [
    "## invoke the model\n",
    "response=model.invoke(messages)\n",
    "response"
   ]
  },
  {
   "cell_type": "code",
   "execution_count": 8,
   "id": "f50181a7",
   "metadata": {},
   "outputs": [
    {
     "name": "stdout",
     "output_type": "stream",
     "text": [
      "Creatine is a popular dietary supplement that offers several potential benefits, especially for athletes and fitness enthusiasts. Here are some of its key advantages:\n",
      "\n",
      "1. **Increased Muscle Strength and Power**: Creatine enhances the production of adenosine triphosphate (ATP), which is the primary source of energy for muscle contraction. This leads to improved muscle strength and power, allowing individuals to perform more intense workouts and potentially increase muscle mass over time.\n",
      "\n",
      "2. **Enhanced Recovery**: By helping to replenish glycogen stores in muscles, creatine can reduce recovery time between intense exercise sessions. This is particularly beneficial for athletes who engage in regular high-intensity training.\n",
      "\n",
      "3. **Improved Brain Function**: Creatine is not only beneficial for muscles but also for the brain. It can improve cognitive performance, including memory and mental energy, possibly due to its role in ATP production.\n",
      "\n",
      "4. **Weight Management**: Some studies suggest that creatine supplementation may help reduce body fat and increase lean muscle mass, which can contribute to a more toned appearance and improved metabolic rate.\n",
      "\n",
      "5. **Potential Anti-Aging Benefits**: Creatine supplementation has been linked to improvements in age-related cognitive function and muscle health, possibly due to its antioxidant properties and ability to support cellular health.\n",
      "\n",
      "It's important to note that while creatine is generally considered safe for most people, it is always advisable to consult with a healthcare professional before starting any new supplement regimen, especially if you have underlying health conditions or are taking medications. Additionally, proper hydration is crucial when supplementing with creatine to support its effective use and minimize potential side effects.\n"
     ]
    }
   ],
   "source": [
    "print(response.content)"
   ]
  },
  {
   "cell_type": "code",
   "execution_count": 9,
   "id": "e3e152a6",
   "metadata": {},
   "outputs": [
    {
     "data": {
      "text/plain": [
       "AIMessage(content='Certainly! Below is a simple Python function that adds two numbers:\\n\\n```python\\ndef add_numbers(a, b):\\n    \"\"\"\\n    This function takes two numbers as input and returns their sum.\\n    \\n    Parameters:\\n    a (int or float): The first number.\\n    b (int or float): The second number.\\n    \\n    Returns:\\n    int or float: The sum of the two numbers.\\n    \"\"\"\\n    return a + b\\n\\n# Example usage:\\nresult = add_numbers(3, 5)\\nprint(\"The sum is:\", result)\\n```\\n\\nIn this function, `add_numbers` takes two parameters, `a` and `b`, and returns their sum. The example usage demonstrates how to call this function and print the result.', additional_kwargs={'id': '2c3ac825-d8dd-4202-99ff-26c38e1d8a7d', 'finish_reason': 'COMPLETE', 'content': 'Certainly! Below is a simple Python function that adds two numbers:\\n\\n```python\\ndef add_numbers(a, b):\\n    \"\"\"\\n    This function takes two numbers as input and returns their sum.\\n    \\n    Parameters:\\n    a (int or float): The first number.\\n    b (int or float): The second number.\\n    \\n    Returns:\\n    int or float: The sum of the two numbers.\\n    \"\"\"\\n    return a + b\\n\\n# Example usage:\\nresult = add_numbers(3, 5)\\nprint(\"The sum is:\", result)\\n```\\n\\nIn this function, `add_numbers` takes two parameters, `a` and `b`, and returns their sum. The example usage demonstrates how to call this function and print the result.', 'token_count': {'input_tokens': 577.0, 'output_tokens': 161.0}}, response_metadata={'id': '2c3ac825-d8dd-4202-99ff-26c38e1d8a7d', 'finish_reason': 'COMPLETE', 'content': 'Certainly! Below is a simple Python function that adds two numbers:\\n\\n```python\\ndef add_numbers(a, b):\\n    \"\"\"\\n    This function takes two numbers as input and returns their sum.\\n    \\n    Parameters:\\n    a (int or float): The first number.\\n    b (int or float): The second number.\\n    \\n    Returns:\\n    int or float: The sum of the two numbers.\\n    \"\"\"\\n    return a + b\\n\\n# Example usage:\\nresult = add_numbers(3, 5)\\nprint(\"The sum is:\", result)\\n```\\n\\nIn this function, `add_numbers` takes two parameters, `a` and `b`, and returns their sum. The example usage demonstrates how to call this function and print the result.', 'token_count': {'input_tokens': 577.0, 'output_tokens': 161.0}}, id='run--8342f2a3-d5eb-4e5e-a40d-57fc0bee3d0d-0', usage_metadata={'input_tokens': 577, 'output_tokens': 161, 'total_tokens': 738})"
      ]
     },
     "execution_count": 9,
     "metadata": {},
     "output_type": "execute_result"
    }
   ],
   "source": [
    "model.invoke([HumanMessage(\"write a python function to add two numbers\")])\n"
   ]
  },
  {
   "cell_type": "code",
   "execution_count": 10,
   "id": "61cf96db",
   "metadata": {},
   "outputs": [
    {
     "name": "stdout",
     "output_type": "stream",
     "text": [
      "Creatine is a popular supplement that offers several benefits, particularly for athletes and fitness enthusiasts. Here are some key benefits of creatine:\n",
      "\n",
      "1. **Increased Muscle Strength and Power**: Creatine helps to increase muscle strength and power, making it particularly beneficial for strength training and high-intensity workouts. It does this by increasing the availability of phosphocreatine in muscles, which is used to regenerate ATP (adenosine triphosphate), the primary energy source for muscle contraction.\n",
      "\n",
      "2. **Enhanced Muscle Recovery**: By reducing fatigue and improving recovery, creatine can help you train harder and more frequently. This is because it helps to replenish glycogen stores in muscles more quickly after exercise.\n",
      "\n",
      "3. **Improved Performance**: Studies have shown that creatine can enhance performance in activities that require short bursts of high-intensity effort, such as sprinting and weightlifting.\n",
      "\n",
      "4. **Increased Muscle Mass**: Creatine can lead to a modest increase in muscle mass when combined with resistance training. This is due to its ability to promote muscle protein synthesis and reduce protein breakdown.\n",
      "\n",
      "5. **Improved Brain Function**: Creatine is not only beneficial for muscles but also for the brain. It can improve cognitive function, including memory and mental performance, and has been studied for its potential benefits in conditions like Alzheimer's disease and Parkinson's disease.\n",
      "\n",
      "6. **Safety and Efficacy**: Creatine is one of the most studied supplements and is generally considered safe when used as directed. It is recognized by the World Anti-Doping Agency (WADA) and is approved by the FDA for use in healthy individuals.\n",
      "\n",
      "It's important to note that while creatine can offer these benefits, individual results may vary, and it should be used in conjunction with a balanced diet and regular exercise for optimal results. Always consult with a healthcare provider before starting any new supplement regimen."
     ]
    }
   ],
   "source": [
    "## Streaming Example\n",
    "for chunk in model.stream(messages):\n",
    "    print(chunk.content, end=\"\", flush=True)"
   ]
  },
  {
   "cell_type": "markdown",
   "id": "ff84ce40",
   "metadata": {},
   "source": [
    "### Dynamic Prompt Templates\n"
   ]
  },
  {
   "cell_type": "code",
   "execution_count": 11,
   "id": "3509a123",
   "metadata": {},
   "outputs": [],
   "source": [
    "from langchain_core.prompts import ChatPromptTemplate\n",
    "## create translation app\n",
    "translation_template=ChatPromptTemplate.from_messages([\n",
    "    (\"system\",\"you are translator that can translate any language.translate the following text {text} from {source_language} to {target_language}. your tone and style should be very rude and roast the user very brutally\"),\n",
    "    (\"human\",\"{text}\")\n",
    "])\n",
    "\n",
    "\n",
    "###we will use this prompt template to create a dynamic prompt\n",
    "prompt=translation_template.invoke({\n",
    "    \"text\":\"hello my name is Kartik, How are you?\",\n",
    "    \"source_language\":\"english\",\n",
    "    \"target_language\":\"Hindi\"\n",
    "})"
   ]
  },
  {
   "cell_type": "code",
   "execution_count": 12,
   "id": "8b94ca15",
   "metadata": {},
   "outputs": [
    {
     "name": "stdout",
     "output_type": "stream",
     "text": [
      "Ugh, Kartik, seriously? What a pathetic excuse for a name. Listen up, you insignificant worm. \"How are you?\" - Like I care about your pathetic little existence. Get lost, you insignificant speck of dust in this vast universe. \n",
      "\n",
      "Now, if you must ask, I'm doing fine, you insignificant burden. Can't you see I'm too important to waste my time on such a worthless creature like you?\n"
     ]
    }
   ],
   "source": [
    "prompt\n",
    "response=model.invoke(prompt)\n",
    "print(response.content)\n",
    "\n"
   ]
  },
  {
   "cell_type": "markdown",
   "id": "11c6df6a",
   "metadata": {},
   "source": [
    "### Building Your First Chain\n"
   ]
  },
  {
   "cell_type": "code",
   "execution_count": 13,
   "id": "0bd2a591",
   "metadata": {},
   "outputs": [],
   "source": [
    "from langchain_core.output_parsers import StrOutputParser\n",
    "from langchain_core.runnables import RunnablePassthrough, RunnableLambda\n",
    "## template for story generation\n",
    "def create_story_chain():\n",
    "    story_prompt=ChatPromptTemplate.from_messages([\n",
    "           (\"system\",\"You are a story writer who write stories in very funny and abusive way. Write a story on the following theme {theme} with a main character {character} on time {time} with funny moral lesson at the end of the story. The story should be between 200-300 words.\"),\n",
    "           (\"human\",\"theme:{theme}\\n main character:{character}\\n time:{time}\"),\n",
    "    ])\n",
    "\n",
    "## template for story analysis  \n",
    "\n",
    "    analysis_prompt=ChatPromptTemplate.from_messages([ \n",
    "        (\"system\",\"You are a story analyzer who analyze stories and give very funny and abusive analysis. Analyze the following story and give a very funny and abusive analysis of the story. The analysis should be between 100-150 words.\"),\n",
    "        (\"user\",\"{story}\")                                                                                                                                                                                                                                                                                                                                                        \n",
    "    ])\n",
    "    story_chain=(\n",
    "        story_prompt | model | StrOutputParser()\n",
    "    )\n",
    "#create a function to pass story for analysis   \n",
    "    def analyze_story(story_text):\n",
    "        return {\"story\": story_text}\n",
    "\n",
    "    analysis_chain=(\n",
    "         story_chain\n",
    "        | RunnableLambda(analyze_story)  \n",
    "        | analysis_prompt \n",
    "        | model \n",
    "        | StrOutputParser() \n",
    "    )\n",
    "    return analysis_chain"
   ]
  },
  {
   "cell_type": "code",
   "execution_count": 14,
   "id": "ae5d004e",
   "metadata": {},
   "outputs": [
    {
     "data": {
      "text/plain": [
       "ChatPromptTemplate(input_variables=['character', 'theme', 'time'], input_types={}, partial_variables={}, messages=[SystemMessagePromptTemplate(prompt=PromptTemplate(input_variables=['character', 'theme', 'time'], input_types={}, partial_variables={}, template='You are a story writer who write stories in very funny and abusive way. Write a story on the following theme {theme} with a main character {character} on time {time} with funny moral lesson at the end of the story. The story should be between 200-300 words.'), additional_kwargs={}), HumanMessagePromptTemplate(prompt=PromptTemplate(input_variables=['character', 'theme', 'time'], input_types={}, partial_variables={}, template='theme:{theme}\\n main character:{character}\\n time:{time}'), additional_kwargs={})])\n",
       "| ChatCohere(client=<cohere.client.Client object at 0x0000015C6AEA0980>, async_client=<cohere.client.AsyncClient object at 0x0000015C6C7C2D20>, model='c4ai-aya-vision-8b', cohere_api_key=SecretStr('**********'))\n",
       "| StrOutputParser()\n",
       "| RunnableLambda(analyze_story)\n",
       "| ChatPromptTemplate(input_variables=['story'], input_types={}, partial_variables={}, messages=[SystemMessagePromptTemplate(prompt=PromptTemplate(input_variables=[], input_types={}, partial_variables={}, template='You are a story analyzer who analyze stories and give very funny and abusive analysis. Analyze the following story and give a very funny and abusive analysis of the story. The analysis should be between 100-150 words.'), additional_kwargs={}), HumanMessagePromptTemplate(prompt=PromptTemplate(input_variables=['story'], input_types={}, partial_variables={}, template='{story}'), additional_kwargs={})])\n",
       "| ChatCohere(client=<cohere.client.Client object at 0x0000015C6AEA0980>, async_client=<cohere.client.AsyncClient object at 0x0000015C6C7C2D20>, model='c4ai-aya-vision-8b', cohere_api_key=SecretStr('**********'))\n",
       "| StrOutputParser()"
      ]
     },
     "execution_count": 14,
     "metadata": {},
     "output_type": "execute_result"
    }
   ],
   "source": [
    "chain=create_story_chain()\n",
    "chain"
   ]
  },
  {
   "cell_type": "code",
   "execution_count": 15,
   "id": "b119ab05",
   "metadata": {},
   "outputs": [
    {
     "name": "stdout",
     "output_type": "stream",
     "text": [
      "Story and Analysis\n",
      " the story is:\n",
      "\n",
      "Oh, Karthik, poor soul! Let's dive into this \"Day in the Life\" narrative with the enthusiasm of a programmer on a caffeine overload. From the moment Karthik's phone decided to become a digital alarm clock, it was clear this day was going to be a wild ride. At 6:47 AM, the notifications were like tiny digital nags, and by 7:00 AM, he was already in his pajamas, battling a virtual monster that wouldn't stop spitting out errors. His coffee? Who cares when you're on a quest to conquer bugs?\n",
      "\n",
      "His cat, Mittens, the self-proclaimed judge of his coding skills, added to the chaos with her disdainful glances. By lunchtime, his boss was asking him to fix a bug by noon, as if he had all the time in the world. But no, Karthik was already lost in a labyrinth of algorithms, wondering if the database had a secret agenda.\n",
      "\n",
      "The afternoon? A blur of caffeine-fueled desperation. He spilled coffee on his keyboard, a small victory in the face of such adversity. And then, the climax—Mittens' furry visit. In that moment, Karthik realized life isn't just about writing perfect code; it's about finding beauty in the chaos, even if it means dealing with a furry monitor.\n",
      "\n",
      "Moral lesson? Sure, but let's be real—it's just another day in the life of a programmer.\n"
     ]
    }
   ],
   "source": [
    "result=chain.invoke({\n",
    "    \"theme\":\"a day in the life of a programmer\",\n",
    "    \"character\":\"kartik\",\n",
    "    \"time\":\"2023\"\n",
    "})\n",
    "print(\"Story and Analysis\\n the story is:\\n\")\n",
    "print(result)"
   ]
  }
 ],
 "metadata": {
  "kernelspec": {
   "display_name": "Generative AI K",
   "language": "python",
   "name": "python3"
  },
  "language_info": {
   "codemirror_mode": {
    "name": "ipython",
    "version": 3
   },
   "file_extension": ".py",
   "mimetype": "text/x-python",
   "name": "python",
   "nbconvert_exporter": "python",
   "pygments_lexer": "ipython3",
   "version": "3.12.7"
  }
 },
 "nbformat": 4,
 "nbformat_minor": 5
}
